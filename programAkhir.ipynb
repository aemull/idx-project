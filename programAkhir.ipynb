{
 "cells": [
  {
   "cell_type": "markdown",
   "metadata": {},
   "source": [
    "# Inisiasi Librarry and Variabel"
   ]
  },
  {
   "cell_type": "code",
   "execution_count": 32,
   "metadata": {},
   "outputs": [],
   "source": [
    "import pandas as pd \n",
    "import numpy as np\n",
    "import openpyxl\n",
    "import subprocess\n",
    "import requests\n",
    "import os\n",
    "import time\n",
    "import re\n",
    "from datetime import datetime\n",
    "from openpyxl import Workbook\n",
    "from tqdm import tqdm, trange\n",
    "from bs4 import BeautifulSoup\n",
    "import warnings\n",
    "\n",
    "warnings.filterwarnings('ignore', category=UserWarning, module='openpyxl')"
   ]
  },
  {
   "cell_type": "code",
   "execution_count": 33,
   "metadata": {},
   "outputs": [],
   "source": [
    "tahun = input(\"Masukkan tahun (..., 2023, 2024, ...): \")\n",
    "kuartal = input(\"Masukkan Kuartal (Q1, Q2, Q3, atau Audit): \")\n",
    "\n",
    "data_xbrl_path = \"./cons/datas/\"\n",
    "data_transit_path = \"./cons/transit/\"\n",
    "data_hasil_path = \"./hasil/\"\n",
    "folderpath = f\"{data_xbrl_path}{tahun}_{kuartal}\""
   ]
  },
  {
   "cell_type": "markdown",
   "metadata": {},
   "source": [
    "# XBRL Downloader From IDX"
   ]
  },
  {
   "cell_type": "code",
   "execution_count": 34,
   "metadata": {},
   "outputs": [],
   "source": [
    "def log_error(message):\n",
    "    with open(\"download_errors.log\", \"a\") as log_file:\n",
    "        timestamp = datetime.now().strftime(\"%Y-%m-%d %H:%M:%S\")\n",
    "        log_file.write(f\"[{timestamp}] {message}\\n\")\n",
    "\n",
    "#Mencatat pesan kesalahan ke dalam file log."
   ]
  },
  {
   "cell_type": "code",
   "execution_count": 35,
   "metadata": {},
   "outputs": [],
   "source": [
    "def get_years_from_input():\n",
    "    while True:\n",
    "        user_input = input(\"Masukkan Tahun : \")\n",
    "        try:\n",
    "            tahun_list = [int(t.strip()) for t in user_input.split(\",\") if t.strip().isdigit()]\n",
    "            if not tahun_list:\n",
    "                raise ValueError(\"Tahun Tidak Valid !!!\")\n",
    "            return tahun_list\n",
    "        except ValueError as e:\n",
    "            print(f\"Input tidak valid: {e}. Coba lagi.\")\n",
    "\n",
    "#Meminta input tahun dari pengguna dan memprosesnya menjadi daftar tahun yang valid."
   ]
  },
  {
   "cell_type": "code",
   "execution_count": null,
   "metadata": {},
   "outputs": [],
   "source": [
    "def get_kuartals_from_input():\n",
    "    kuartal_dict = {\n",
    "        \"Q1\": \"I\",\n",
    "        \"Q2\": \"II\",\n",
    "        \"Q3\": \"III\",\n",
    "        \"Audit\": \"Tahunan\"\n",
    "    }\n",
    "    while True:\n",
    "        user_input = input(\"Masukkan kuartal (Q1, Q2, Q3, Audit): \")\n",
    "        kuartal_list = [k.strip() for k in user_input.split(\",\") if k.strip() in kuartal_dict]\n",
    "\n",
    "        if not kuartal_list:\n",
    "            print(\"Inputan Kuartal Tidak Valid !!!\")\n",
    "            continue\n",
    "\n",
    "        return {k: kuartal_dict[k] for k in kuartal_list}\n",
    "\n",
    "#Meminta input kuartal dari pengguna dan memprosesnya menjadi daftar kuartal yang valid."
   ]
  },
  {
   "cell_type": "code",
   "execution_count": null,
   "metadata": {},
   "outputs": [],
   "source": [
    "def read_company_codes(excel_file=\"daftar_files.xlsx\", sheet_name=\"Tidak Terunduh\"):\n",
    "    try:\n",
    "        df = pd.read_excel(excel_file, sheet_name=sheet_name)\n",
    "        return df['Kode Perusahaan'].dropna().tolist()\n",
    "    except Exception as e:\n",
    "        log_error(f\"Error membaca file Excel: {e}\")\n",
    "        print(f\"Error membaca file Excel: {e}\")\n",
    "        return []\n",
    "    \n",
    "# Membaca daftar kode perusahaan dari file Excel.\n",
    "# Kalau mau ganti nama file Daftar Perusahaan di sini"
   ]
  },
  {
   "cell_type": "code",
   "execution_count": null,
   "metadata": {},
   "outputs": [],
   "source": [
    "# INI MAIN PROGRAMNYA\n",
    "\n",
    "def download_files():\n",
    "\n",
    "    tahun_list = get_years_from_input() # Inputan Tahun\n",
    "    kuartal_dict = get_kuartals_from_input() # Inputan Kuartal\n",
    "    kode_perusahaan_list = read_company_codes() # Membaca kode perusahaan dari file Excel\n",
    "\n",
    "    if not kode_perusahaan_list:\n",
    "        return\n",
    "\n",
    "    # Iterasi tahun, kuartal, dan kode perusahaan\n",
    "    for tahun in tahun_list:\n",
    "\n",
    "        for kuartal, kuartal_romawi in kuartal_dict.items():\n",
    "\n",
    "            for kode_perusahaan in kode_perusahaan_list:\n",
    "                # Membuat direktori berdasarkan tahun dan kuartal\n",
    "                download_dir = f\"datas/{tahun}_{kuartal}\"\n",
    "                os.makedirs(download_dir, exist_ok=True)\n",
    "\n",
    "                # Path lengkap file output\n",
    "                output_file = os.path.join(download_dir, f\"FinancialStatement-{tahun}-{kuartal_romawi}-{kode_perusahaan}.xlsx\")\n",
    "                \n",
    "                # URL file yang akan diunduh\n",
    "                url = (\n",
    "                    f\"https://idx.co.id/Portals/0/StaticData/ListedCompanies/Corporate_Actions/New_Info_JSX/Jenis_Informasi/01_Laporan_Keuangan/\"\n",
    "                    f\"02_Soft_Copy_Laporan_Keuangan/Laporan%20Keuangan%20Tahun%20{tahun}/{kuartal}/{kode_perusahaan}/\"\n",
    "                    f\"FinancialStatement-{tahun}-{kuartal_romawi}-{kode_perusahaan}.xlsx\"\n",
    "                )\n",
    "                \n",
    "                # Perintah curl\n",
    "                command = [\n",
    "                    \"curl\",\n",
    "                    \"-H\", \"User-Agent: Mozilla/5.0 (X11; Linux x86_64; rv:109.0) Gecko/20100101 Firefox/110.0\",\n",
    "                    url,\n",
    "                    \"-o\", output_file\n",
    "                ]\n",
    "                \n",
    "                # Eksekusi perintah\n",
    "                try:\n",
    "                    time.sleep(2)\n",
    "                    subprocess.run(command, check=True)\n",
    "                    print(f\"File berhasil diunduh: {kode_perusahaan} {kuartal} {tahun}\")\n",
    "                    \n",
    "\n",
    "                except subprocess.CalledProcessError as e:\n",
    "                    error_message = f\"Gagal mengunduh file: {kode_perusahaan}. Error: {e}\"\n",
    "                    log_error(error_message)\n",
    "                    print(error_message)\n",
    "                    time.sleep(4)\n"
   ]
  },
  {
   "cell_type": "code",
   "execution_count": null,
   "metadata": {},
   "outputs": [],
   "source": [
    "if __name__ == \"__main__\":\n",
    "    download_files()"
   ]
  },
  {
   "cell_type": "markdown",
   "metadata": {},
   "source": [
    "# Validate File"
   ]
  },
  {
   "cell_type": "code",
   "execution_count": null,
   "metadata": {},
   "outputs": [],
   "source": [
    "def write_codes_to_sheet(sheet, codes):\n",
    "\n",
    "    sheet.cell(row=1, column=1).value = \"No\"\n",
    "    sheet.cell(row=1, column=2).value = \"Kode Perusahaan\"\n",
    "\n",
    "    for i, code in enumerate(codes):\n",
    "        sheet.cell(row=i+2, column=1).value = i+1\n",
    "        sheet.cell(row=i+2, column=2).value = code\n"
   ]
  },
  {
   "cell_type": "code",
   "execution_count": null,
   "metadata": {},
   "outputs": [],
   "source": [
    "def process_files(folder_path):\n",
    "\n",
    "    less_than_10kb = []\n",
    "    greater_than_10kb = []\n",
    "\n",
    "    for filename in os.listdir(folder_path):\n",
    "        if filename.endswith(\".xlsx\"):\n",
    "            file_path = os.path.join(folder_path, filename)\n",
    "            file_size = os.path.getsize(file_path)\n",
    "            match = re.search(r\"-([A-Z]+)\\.xlsx$\", filename)\n",
    "            if match:\n",
    "                code = match.group(1)\n",
    "                if file_size < 10240:\n",
    "                    less_than_10kb.append(code)\n",
    "                else:\n",
    "                    greater_than_10kb.append(code)\n",
    "    return less_than_10kb, greater_than_10kb"
   ]
  },
  {
   "cell_type": "code",
   "execution_count": null,
   "metadata": {},
   "outputs": [],
   "source": [
    "def write_to_excel(data_less, data_greater, output_file):\n",
    "\n",
    "    workbook = Workbook()\n",
    "\n",
    "    # Sheet 1: Less than 10KB\n",
    "    sheet_less = workbook.active\n",
    "    sheet_less.title = \"Tidak Terunduh\"\n",
    "    write_codes_to_sheet(sheet_less, data_less)\n",
    "\n",
    "    # Sheet 2: Greater than or equal to 10KB\n",
    "    sheet_greater = workbook.create_sheet(\"Terunduh\")\n",
    "    write_codes_to_sheet(sheet_greater, data_greater)\n",
    "\n",
    "    workbook.save(output_file)"
   ]
  },
  {
   "cell_type": "code",
   "execution_count": null,
   "metadata": {},
   "outputs": [],
   "source": [
    "def hapus_sampah(folder_path, batas_kb=10):\n",
    "\n",
    "    if not os.path.exists(folder_path):\n",
    "        print(f\"Folder '{folder_path}' tidak ditemukan.\")\n",
    "        return\n",
    "    \n",
    "    # Konversi batas KB ke byte\n",
    "    size_limit = batas_kb * 1024  \n",
    "    jumlah_dihapus = 0\n",
    "\n",
    "    # Loop melalui semua file dalam folder\n",
    "    for filename in os.listdir(folder_path):\n",
    "        file_path = os.path.join(folder_path, filename)\n",
    "\n",
    "        # Periksa apakah itu file (bukan folder)\n",
    "        if os.path.isfile(file_path):\n",
    "            file_size = os.path.getsize(file_path)  # Dapatkan ukuran file\n",
    "            \n",
    "            # Jika ukuran file kurang dari batas, hapus\n",
    "            if file_size < size_limit:\n",
    "                os.remove(file_path)\n",
    "                jumlah_dihapus += 1\n",
    "                print(f\"File '{filename}' ({file_size} bytes) telah dihapus.\")\n",
    "\n",
    "    print(f\"Proses selesai. {jumlah_dihapus} file telah dihapus.\")"
   ]
  },
  {
   "cell_type": "code",
   "execution_count": null,
   "metadata": {},
   "outputs": [],
   "source": [
    "if __name__ == \"__main__\":\n",
    "    folder_path = input(\"Masukkan path folder: \")\n",
    "    less_than_10kb, greater_than_10kb = process_files(folder_path)\n",
    "\n",
    "    output_file = f\"daftar_files.xlsx\"\n",
    "    write_to_excel(less_than_10kb, greater_than_10kb, output_file)\n",
    "\n",
    "    hapus_sampah(folder_path)\n",
    "\n",
    "    print(f\"Kode perusahaan telah disimpan di {output_file}\")"
   ]
  },
  {
   "cell_type": "markdown",
   "metadata": {},
   "source": [
    "# Datas Scrapper"
   ]
  },
  {
   "cell_type": "code",
   "execution_count": 37,
   "metadata": {},
   "outputs": [],
   "source": [
    "def file_info_scraper(folder_path):\n",
    "    xlsx_files = [f for f in os.listdir(folder_path) if f.endswith(\".xlsx\")]\n",
    "    data = {\"NamaFile\":[], \"kode entitas\": [], \"NamaSheetPK\": [], \"NamaSheetLR\": [], \"NamaSheetRB\": []}\n",
    "        \n",
    "    print(\"Mengumpulkan Nama Sheet...\")\n",
    "    for namefile in tqdm(xlsx_files):\n",
    "        file_path = os.path.join(folder_path, namefile)\n",
    "        try:\n",
    "            xls = pd.ExcelFile(file_path)\n",
    "        except Exception as e :\n",
    "            print(\"\\r\",namefile, e)\n",
    "            continue\n",
    "            \n",
    "        data[\"kode entitas\"].append(namefile[-9:-5])\n",
    "        sheet_pk, sheet_lr, sheet_rb = None, None, None\n",
    "            \n",
    "        for sheet in xls.sheet_names:\n",
    "            df = pd.read_excel(xls, sheet_name=sheet, nrows=10, dtype=str)\n",
    "            text = \" \".join(df.astype(str).fillna(\"\").values.flatten())\n",
    "                \n",
    "            if \"Statement of financial position\" in text:\n",
    "                sheet_pk = sheet\n",
    "            if \"Statement of profit or loss and other comprehensive income\" in text:\n",
    "                sheet_lr = sheet\n",
    "            if \"Statement of cash flows\" in text:\n",
    "                sheet_rb = sheet\n",
    "                \n",
    "        data[\"NamaSheetPK\"].append(sheet_pk)\n",
    "        data[\"NamaSheetLR\"].append(sheet_lr)\n",
    "        data[\"NamaSheetRB\"].append(sheet_rb)\n",
    "        data[\"NamaFile\"].append(namefile)\n",
    "    \n",
    "    print(\"Pengumpulan Nama Sheet Selesai.\\r\")\n",
    "    return pd.DataFrame(data)"
   ]
  },
  {
   "cell_type": "code",
   "execution_count": 38,
   "metadata": {},
   "outputs": [
    {
     "name": "stdout",
     "output_type": "stream",
     "text": [
      "Mengumpulkan Nama Sheet...\n"
     ]
    },
    {
     "name": "stderr",
     "output_type": "stream",
     "text": [
      " 48%|████▊     | 351/738 [02:04<04:09,  1.55it/s]"
     ]
    },
    {
     "name": "stdout",
     "output_type": "stream",
     "text": [
      " FinancialStatement-2024-Tahunan-TRUK.xlsx File is not a zip file\n"
     ]
    },
    {
     "name": "stderr",
     "output_type": "stream",
     "text": [
      "100%|██████████| 738/738 [04:11<00:00,  2.94it/s]"
     ]
    },
    {
     "name": "stdout",
     "output_type": "stream",
     "text": [
      "Pengumpulan Nama Sheet Selesai.\n"
     ]
    },
    {
     "name": "stderr",
     "output_type": "stream",
     "text": [
      "\n"
     ]
    }
   ],
   "source": [
    "data = file_info_scraper(folderpath)"
   ]
  },
  {
   "cell_type": "code",
   "execution_count": 40,
   "metadata": {},
   "outputs": [],
   "source": [
    "def xbrl_scraper(jenis_laporan, kolom_sheet):\n",
    "    \n",
    "    print(\"Memulai pengambilan data :\")\n",
    "    \n",
    "    for sheet_name in tqdm(jenis_laporan):\n",
    "        data_filtered = data[data[kolom_sheet] == sheet_name].reset_index(drop=True)\n",
    "        wadah_transit = pd.DataFrame()\n",
    "        \n",
    "        for _, row in data_filtered.iterrows():\n",
    "            try:\n",
    "                sheet_name = row[kolom_sheet]\n",
    "                \n",
    "\n",
    "                if not sheet_name:\n",
    "                    print(f\"Skipping {row['NamaFile']} karena sheet {kolom_sheet} tidak ditemukan.\")\n",
    "                    continue  \n",
    "\n",
    "                file_path = f\"{folderpath}/{row['NamaFile']}\"\n",
    "                file_target = pd.read_excel(file_path, sheet_name=sheet_name, index_col=None)\n",
    "                file_target = file_target.dropna(how=\"all\").T\n",
    "                file_target = file_target.drop(file_target.columns[0], axis=1).reset_index(drop=True).drop(3)\n",
    "                file_target.loc[0, 2] = \"Tanggal\"\n",
    "                file_target.columns = file_target.iloc[0].str.lower()\n",
    "                file_target = file_target[1:].dropna(axis=1, how=\"all\")\n",
    "                file_target[\"kode entitas\"] = [row[\"kode entitas\"]] * 2\n",
    "                wadah_transit = pd.concat([wadah_transit, file_target], ignore_index=True)\n",
    "\n",
    "            except Exception as e:\n",
    "                print(f\"Error pada {row['kode_entitas']}: {e}\")\n",
    "\n",
    "        \n",
    "        wadah_transit.to_excel(f\"{data_transit_path}{sheet_name}.xlsx\", index=False)\n",
    "    \n",
    "    print(\"Pengumpulan data selesai. \\r\")"
   ]
  },
  {
   "cell_type": "code",
   "execution_count": 41,
   "metadata": {},
   "outputs": [
    {
     "name": "stdout",
     "output_type": "stream",
     "text": [
      "Memulai pengambilan data :\n"
     ]
    },
    {
     "name": "stderr",
     "output_type": "stream",
     "text": [
      "100%|██████████| 10/10 [02:46<00:00, 16.64s/it]\n"
     ]
    },
    {
     "name": "stdout",
     "output_type": "stream",
     "text": [
      "Pengumpulan data selesai. \n",
      "Memulai pengambilan data :\n"
     ]
    },
    {
     "name": "stderr",
     "output_type": "stream",
     "text": [
      "100%|██████████| 19/19 [02:38<00:00,  8.34s/it]\n"
     ]
    },
    {
     "name": "stdout",
     "output_type": "stream",
     "text": [
      "Pengumpulan data selesai. \n",
      "Memulai pengambilan data :\n"
     ]
    },
    {
     "name": "stderr",
     "output_type": "stream",
     "text": [
      "100%|██████████| 9/9 [02:57<00:00, 19.75s/it]"
     ]
    },
    {
     "name": "stdout",
     "output_type": "stream",
     "text": [
      "Pengumpulan data selesai. \n"
     ]
    },
    {
     "name": "stderr",
     "output_type": "stream",
     "text": [
      "\n"
     ]
    }
   ],
   "source": [
    "xbrl_scraper(data[\"NamaSheetPK\"].unique(), \"NamaSheetPK\")\n",
    "xbrl_scraper(data[\"NamaSheetLR\"].unique(), \"NamaSheetLR\")\n",
    "xbrl_scraper(data[\"NamaSheetRB\"].unique(), \"NamaSheetRB\")"
   ]
  },
  {
   "cell_type": "code",
   "execution_count": 42,
   "metadata": {},
   "outputs": [],
   "source": [
    "def gabungkan_data(jenis_laporan):\n",
    "    gabung_all = pd.concat([\n",
    "        pd.read_excel(f\"{data_transit_path}{sheet}.xlsx\") for sheet in jenis_laporan\n",
    "    ], ignore_index=True)\n",
    "    \n",
    "    kolom_awal = [\"kode entitas\"]\n",
    "    gabung_all = gabung_all[kolom_awal + [col for col in gabung_all.columns if col not in kolom_awal]].fillna(0)\n",
    "    return gabung_all"
   ]
  },
  {
   "cell_type": "code",
   "execution_count": 43,
   "metadata": {},
   "outputs": [],
   "source": [
    "laporan_pk_all = gabungkan_data(data[\"NamaSheetPK\"].unique())\n",
    "laporan_lr_all = gabungkan_data(data[\"NamaSheetLR\"].unique())\n",
    "laporan_rb_all = gabungkan_data(data[\"NamaSheetRB\"].unique())"
   ]
  },
  {
   "cell_type": "code",
   "execution_count": 44,
   "metadata": {},
   "outputs": [],
   "source": [
    "def pemisah_data(df):\n",
    "    current_q = df.iloc[::2].reset_index(drop=True)\n",
    "    previous_q = df.iloc[1::2].reset_index(drop=True)\n",
    "    return current_q, previous_q"
   ]
  },
  {
   "cell_type": "code",
   "execution_count": 45,
   "metadata": {},
   "outputs": [],
   "source": [
    "PK_currentQ, PK_previousQ = pemisah_data(laporan_pk_all)\n",
    "LR_currentQ, LR_previousQ = pemisah_data(laporan_lr_all)\n",
    "RB_currentQ, RB_previousQ = pemisah_data(laporan_rb_all)"
   ]
  },
  {
   "cell_type": "code",
   "execution_count": 46,
   "metadata": {},
   "outputs": [],
   "source": [
    "def general_information():\n",
    "    info_entitas = pd.concat([\n",
    "        pd.read_excel(f\"{folderpath}/{file}\", sheet_name=\"1000000\").T.dropna(how=\"all\").reset_index(drop=True).drop(2)\n",
    "        for file in data[\"NamaFile\"]\n",
    "    ], ignore_index=True)\n",
    "    \n",
    "    info_entitas = info_entitas.drop_duplicates().reset_index(drop=True)\n",
    "    info_entitas.columns = info_entitas.iloc[0].str.lower()\n",
    "    info_entitas = info_entitas.drop(info_entitas.columns[:2], axis=1).drop(0)\n",
    "    \n",
    "    \n",
    "    return info_entitas"
   ]
  },
  {
   "cell_type": "code",
   "execution_count": 47,
   "metadata": {},
   "outputs": [],
   "source": [
    "general_info = general_information()"
   ]
  },
  {
   "cell_type": "markdown",
   "metadata": {},
   "source": [
    "# Stock Scrapper From Google Finance"
   ]
  },
  {
   "cell_type": "code",
   "execution_count": 48,
   "metadata": {},
   "outputs": [],
   "source": [
    "def stock_latest_googlefinance () :\n",
    "\n",
    "    datas = data[\"kode entitas\"].unique()\n",
    "\n",
    "    harga_stock = []\n",
    "\n",
    "    for ticker in tqdm(datas) :\n",
    "\n",
    "        url = f'https://www.google.com/finance/quote/{ticker}:IDX?hl=en'\n",
    "        response = requests.get(url)\n",
    "        soup = BeautifulSoup(response.content, 'html.parser')\n",
    "\n",
    "        stocknya = soup.find('div', class_='AHmHk').text\n",
    "        stocknya = \"\".join(filter(str.isdigit, stocknya))\n",
    "        stocknya = int(stocknya) // 100\n",
    "        \n",
    "        harga_stock.append(stocknya)\n",
    "        time.sleep(1)\n",
    "        \n",
    "    all_stocks = {\n",
    "        \"kode perusahaan\" : datas,\n",
    "        \"penutupan\" : harga_stock\n",
    "    }\n",
    "\n",
    "    all_stocks = pd.DataFrame(all_stocks)\n",
    "    \n",
    "    print(\"Selesai\")\n",
    "    return all_stocks"
   ]
  },
  {
   "cell_type": "code",
   "execution_count": 49,
   "metadata": {},
   "outputs": [
    {
     "name": "stderr",
     "output_type": "stream",
     "text": [
      "100%|██████████| 737/737 [25:31<00:00,  2.08s/it]"
     ]
    },
    {
     "name": "stdout",
     "output_type": "stream",
     "text": [
      "Selesai\n"
     ]
    },
    {
     "name": "stderr",
     "output_type": "stream",
     "text": [
      "\n"
     ]
    }
   ],
   "source": [
    "latest_stock = stock_latest_googlefinance()"
   ]
  },
  {
   "cell_type": "markdown",
   "metadata": {},
   "source": [
    "# Combine All Datas"
   ]
  },
  {
   "cell_type": "code",
   "execution_count": null,
   "metadata": {},
   "outputs": [],
   "source": [
    "with pd.ExcelWriter(f\"{data_hasil_path}Data_Laporan_{tahun}_{kuartal}.xlsx\", engine='openpyxl') as writer:\n",
    "    general_info.to_excel(writer, sheet_name=\"gen_info\", index=False)\n",
    "    PK_currentQ.to_excel(writer, sheet_name=\"pk_now\", index=False)\n",
    "    LR_currentQ.to_excel(writer, sheet_name=\"lr_now\", index=False)\n",
    "    RB_currentQ.to_excel(writer, sheet_name=\"rb_now\", index=False)\n",
    "    PK_previousQ.to_excel(writer, sheet_name=\"pk_prev\", index=False)\n",
    "    LR_previousQ.to_excel(writer, sheet_name=\"lr_prev\", index=False)\n",
    "    RB_previousQ.to_excel(writer, sheet_name=\"rb_prev\", index=False)"
   ]
  },
  {
   "cell_type": "code",
   "execution_count": null,
   "metadata": {},
   "outputs": [],
   "source": [
    "with pd.ExcelWriter(f\"{data_hasil_path}Data_Laporan_{tahun}_{kuartal}.xlsx\", engine='openpyxl', mode='a') as writer:\n",
    "    latest_stock.to_excel(writer, sheet_name=\"stock_info\", index=False)"
   ]
  }
 ],
 "metadata": {
  "kernelspec": {
   "display_name": "Python 3",
   "language": "python",
   "name": "python3"
  },
  "language_info": {
   "codemirror_mode": {
    "name": "ipython",
    "version": 3
   },
   "file_extension": ".py",
   "mimetype": "text/x-python",
   "name": "python",
   "nbconvert_exporter": "python",
   "pygments_lexer": "ipython3",
   "version": "3.11.9"
  }
 },
 "nbformat": 4,
 "nbformat_minor": 2
}
